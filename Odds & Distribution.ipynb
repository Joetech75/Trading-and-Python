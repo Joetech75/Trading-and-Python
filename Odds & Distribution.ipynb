{
 "cells": [
  {
   "cell_type": "code",
   "execution_count": 1,
   "metadata": {},
   "outputs": [],
   "source": [
    "from datetime import date as d\n",
    "import numpy as np\n",
    "import pandas as pd\n",
    "import math \n",
    "import matplotlib.pyplot as plt\n",
    "import datetime\n",
    "import fix_yahoo_finance as fyf\n",
    "import xlrd\n",
    "import time"
   ]
  },
  {
   "cell_type": "code",
   "execution_count": 2,
   "metadata": {},
   "outputs": [],
   "source": [
    "interval=5\n",
    "to_period=d.today()\n",
    "from_period=d.today() - datetime.timedelta(days=365*5)"
   ]
  },
  {
   "cell_type": "code",
   "execution_count": 3,
   "metadata": {},
   "outputs": [
    {
     "name": "stdin",
     "output_type": "stream",
     "text": [
      "Input a Stock/Currency Pair Name SQ\n"
     ]
    },
    {
     "name": "stdout",
     "output_type": "stream",
     "text": [
      "[*********************100%***********************]  1 of 1 downloaded\n"
     ]
    }
   ],
   "source": [
    "ticker = input('Input a Stock/Currency Pair Name') #Type the stock name you want\n",
    "stock_data=fyf.download(ticker,start=from_period,end=to_period,interval = '1d')[['Adj Close']].round(2)"
   ]
  },
  {
   "cell_type": "code",
   "execution_count": 4,
   "metadata": {},
   "outputs": [],
   "source": [
    "\n",
    "stock_data['Returns']=(stock_data['Adj Close']/stock_data['Adj Close'].shift(1))-1  \n"
   ]
  },
  {
   "cell_type": "code",
   "execution_count": 8,
   "metadata": {},
   "outputs": [
    {
     "name": "stdout",
     "output_type": "stream",
     "text": [
      "avg_simple_returns_monthly = -11.10%\n",
      "avg_simple_returns_quarterly = -6.69%\n",
      "avg_simple_returns_annually = 37.57%\n"
     ]
    }
   ],
   "source": [
    "\n",
    "avg_simplereturns_monthly=(stock_data['Returns'].tail(21)).mean()*21\n",
    "print(\"avg_simple_returns_monthly = %.2f%%\" % (100*float(avg_returns_monthly)))\n",
    "avg_simplereturns_quarterly=(stock_data['Returns'].tail(63)).mean()*63\n",
    "print(\"avg_simple_returns_quarterly = %.2f%%\" % (100*float(avg_returns_quarterly)))\n",
    "avg_simplereturns_annually=(stock_data['Returns'].tail(252)).mean()*252\n",
    "print(\"avg_simple_returns_annually = %.2f%%\" % (100*float(avg_returns_annually)))"
   ]
  },
  {
   "cell_type": "code",
   "execution_count": 9,
   "metadata": {},
   "outputs": [
    {
     "name": "stdout",
     "output_type": "stream",
     "text": [
      "avg_lo_greturns_monthly = -11.66%\n",
      "avg_log_returns_quarterly = -8.04%\n",
      "avg_log_returns_annually = 21.92%\n"
     ]
    }
   ],
   "source": [
    "stock_data['Returns']=np.log(stock_data['Adj Close']/stock_data['Adj Close'].shift(1))  \n",
    "avg_logreturns_monthly=(stock_data['Returns'].tail(21)).mean()*21\n",
    "print(\"avg_log_returns_monthly = %.2f%%\" % (100*float(avg_logreturns_monthly)))\n",
    "avg_logreturns_quarterly=(stock_data['Returns'].tail(63)).mean()*63\n",
    "print(\"avg_log_returns_quarterly = %.2f%%\" % (100*float(avg_logreturns_quarterly)))\n",
    "avg_logreturns_annually=(stock_data['Returns'].tail(252)).mean()*252\n",
    "print(\"avg_log_returns_annually = %.2f%%\" % (100*float(avg_logreturns_annually)))"
   ]
  },
  {
   "cell_type": "code",
   "execution_count": 10,
   "metadata": {},
   "outputs": [],
   "source": [
    "interval=np.arange(-0.025,0.025,0.005)\n",
    "hist_data= pd.DataFrame(columns=['Bins', 'Count'])\n",
    "for i in range(len(interval)):\n",
    "    if i==0:\n",
    "        count=stock_data[stock_data['Returns']<= interval[i+1]].shape[0]\n",
    "        cols=  '<'+str ((interval[i+1]*100).round(2))+'%'\n",
    "    elif i==len(interval)-1:\n",
    "        count=stock_data[stock_data['Returns']> interval[i]].shape[0]\n",
    "        cols=  '>'+str ((interval[i]*100).round(2))+'%'\n",
    "    else:\n",
    "        tr=np.logical_and(stock_data['Returns']> interval[i],stock_data['Returns']<= interval[i+1])\n",
    "        count=stock_data[tr].shape[0]\n",
    "        cols=  str((interval[i]*100).round(2))+'% to ' +str((interval[i+1]*100).round(2))+'%' \n",
    "    hist_data1=pd.DataFrame([[cols,count]],columns=['Bins', 'Count'])  \n",
    "    hist_data=hist_data.append(hist_data1,ignore_index=True)   "
   ]
  },
  {
   "cell_type": "code",
   "execution_count": 11,
   "metadata": {},
   "outputs": [],
   "source": [
    "Describe=pd.DataFrame(stock_data['Returns'].describe())\n",
    "Describe.reset_index(inplace=True)\n",
    "Describe.rename(columns={'index':'Description'}, inplace=True)\n",
    "mean=Describe.iloc[1,1]\n",
    "std=Describe.iloc[2,1]"
   ]
  },
  {
   "cell_type": "code",
   "execution_count": null,
   "metadata": {},
   "outputs": [],
   "source": [
    "max()"
   ]
  },
  {
   "cell_type": "code",
   "execution_count": 12,
   "metadata": {},
   "outputs": [],
   "source": [
    "tr=np.logical_and(stock_data['Returns']>=mean-std,stock_data['Returns']<=mean+std)\n",
    "tr2=np.logical_and(stock_data['Returns']>=mean-2*std,stock_data['Returns']<=mean+2*std)\n",
    "within=round(stock_data[tr].shape[0]/stock_data['Returns'].shape[0],2)\n",
    "within2=round(stock_data[tr2].shape[0]/stock_data['Returns'].shape[0],2)\n",
    "within=str(within*100)+'%'\n",
    "within2=str(within2*100)+'%'\n",
    "Describe=Describe.append(pd.DataFrame([['Within 1 Std',within]],columns=['Description','Returns']),\n",
    "                         ignore_index=True)\n",
    "Describe=Describe.append(pd.DataFrame([['Within 2 Std',within2]],columns=['Description','Returns']),\n",
    "                         ignore_index=True)"
   ]
  },
  {
   "cell_type": "code",
   "execution_count": 13,
   "metadata": {},
   "outputs": [],
   "source": [
    "intr1_upper=mean+std\n",
    "intr1_lower=mean-std\n",
    "intr2_upper=mean+2*std\n",
    "intr2_lower=mean-2*std\n",
    "intr3_upper=mean+3*std\n",
    "intr3_lower=mean-3*std\n",
    "stdintr=pd.DataFrame([['Upper',intr1_upper,intr2_upper,intr3_upper],\n",
    "                      ['Lower',intr1_lower,intr2_lower,intr3_lower]],columns=['Std Dev',1,2,3])\n",
    "    "
   ]
  },
  {
   "cell_type": "code",
   "execution_count": 14,
   "metadata": {},
   "outputs": [],
   "source": [
    "from pandas import ExcelWriter\n",
    "\n",
    "writer=pd.ExcelWriter(ticker+'_Odds & Distribution.xlsx',datetime_format='dd-mm-yyyy')\n",
    "workbook=writer.book\n",
    "worksheet=workbook.add_worksheet(ticker)\n",
    "writer.sheets[ticker] = worksheet\n",
    "stock_data.to_excel(writer, sheet_name=ticker, index= True)\n",
    "hist_data.to_excel(writer,sheet_name=ticker,startrow=0, startcol=10,index=False) \n",
    "Describe.to_excel(writer,sheet_name=ticker,startrow=0, startcol=14,index=False)\n",
    "stdintr.to_excel(writer,sheet_name=ticker,startrow=0, startcol=17,index=False)\n",
    "percentage= workbook.add_format({'num_format':'0.00%'})\n",
    "worksheet.set_column('D:D',13, percentage)\n",
    "worksheet.set_column('S:U',13, percentage)\n",
    "for i, col in enumerate(stock_data.columns):\n",
    "    column_len = len(col)\n",
    "    # set the column length\n",
    "    if(i==0):\n",
    "        worksheet.set_column(i+10, i+10, column_len+10)\n",
    "        worksheet.set_column(i+14, i+14, column_len+10)\n",
    "        worksheet.set_column(i, i, column_len+10)\n",
    "    break    \n",
    "    \n",
    "chart=workbook.add_chart({'type':'column'})\n",
    "chart.add_series({\n",
    "    'values':ticker+'!$L$2:$L$11',\n",
    "    'categories':\"'\"+ticker+\"'\"+'!$K$2:$K$11',\n",
    "    'gap':15,\n",
    "})\n",
    "chart.set_size({'x_scale': 1, 'y_scale': 1.3})\n",
    "chart.set_x_axis({'name':'Return','num_font':  {'rotation': 45}})\n",
    "chart.set_y_axis({'name':'Count'})\n",
    "chart.set_legend({'none': True})\n",
    "chart.set_title({'name': 'Histogram of Returns'})\n",
    "worksheet.insert_chart('K2', chart, {'x_offset': 20, 'y_offset': 250})\n",
    "writer.save()"
   ]
  },
  {
   "cell_type": "code",
   "execution_count": null,
   "metadata": {},
   "outputs": [],
   "source": []
  }
 ],
 "metadata": {
  "kernelspec": {
   "display_name": "Python 3",
   "language": "python",
   "name": "python3"
  },
  "language_info": {
   "codemirror_mode": {
    "name": "ipython",
    "version": 3
   },
   "file_extension": ".py",
   "mimetype": "text/x-python",
   "name": "python",
   "nbconvert_exporter": "python",
   "pygments_lexer": "ipython3",
   "version": "3.7.3"
  }
 },
 "nbformat": 4,
 "nbformat_minor": 2
}
